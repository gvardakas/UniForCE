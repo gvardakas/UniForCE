{
 "cells": [
  {
   "cell_type": "code",
   "execution_count": 1,
   "id": "97df978a",
   "metadata": {},
   "outputs": [],
   "source": [
    "import numpy as np\n",
    "import pandas as pd\n",
    "from scipy.io import savemat\n",
    "\n",
    "from sklearn.preprocessing import MinMaxScaler, StandardScaler, LabelEncoder"
   ]
  },
  {
   "cell_type": "code",
   "execution_count": 2,
   "id": "f1bcd399",
   "metadata": {},
   "outputs": [],
   "source": [
    "def Isolet_np():\n",
    "    df_tr = pd.read_csv('./Train/data', header=None)\n",
    "    df_ts = pd.read_csv('./Test/data', header=None)\n",
    "    df = pd.concat((df_tr, df_ts))\n",
    "\n",
    "    labels = df[df.columns[-1]].to_numpy()\n",
    "    df.drop(columns=df.columns[-1], inplace=True)\n",
    "\n",
    "    data = df.to_numpy()\n",
    "\n",
    "    labels = LabelEncoder().fit_transform(labels)\n",
    "    return data, labels"
   ]
  },
  {
   "cell_type": "code",
   "execution_count": 3,
   "id": "ed0c616d",
   "metadata": {},
   "outputs": [],
   "source": [
    "data, labels = Isolet_np()\n",
    "\n",
    "labels = labels + 1\n",
    "savemat('Isolet.mat', {'X': data, 'C': labels.reshape(-1, 1)})"
   ]
  },
  {
   "cell_type": "code",
   "execution_count": 5,
   "id": "a1cb498a",
   "metadata": {},
   "outputs": [
    {
     "data": {
      "text/plain": [
       "((7797, 617), (7797,))"
      ]
     },
     "execution_count": 5,
     "metadata": {},
     "output_type": "execute_result"
    }
   ],
   "source": [
    "data.shape, labels.shape"
   ]
  },
  {
   "cell_type": "code",
   "execution_count": 7,
   "id": "8794490e",
   "metadata": {},
   "outputs": [
    {
     "data": {
      "text/plain": [
       "26"
      ]
     },
     "execution_count": 7,
     "metadata": {},
     "output_type": "execute_result"
    }
   ],
   "source": [
    "np.unique(labels).shape[0]"
   ]
  },
  {
   "cell_type": "code",
   "execution_count": 9,
   "id": "e88a4f5c",
   "metadata": {},
   "outputs": [
    {
     "data": {
      "text/plain": [
       "array([ 1,  1,  2,  2,  3,  3,  4,  4,  5,  5,  6,  6,  7,  7,  8,  8,  9,\n",
       "        9, 10, 10, 11, 11, 12, 12, 13, 13, 14, 14, 15, 15, 16, 16, 17, 17,\n",
       "       18, 18, 19, 19, 20, 20, 21, 21, 22, 22, 23, 23, 24, 24, 25, 25, 26,\n",
       "       26,  1,  1,  2,  2,  3,  3,  4,  4,  5,  5,  6,  6,  7,  7,  8,  8,\n",
       "        9,  9, 10, 10, 11, 11, 12, 12, 13, 13, 14, 14, 15, 15, 16, 16, 17,\n",
       "       17, 18, 18, 19, 19, 20, 20, 21, 21, 22, 22, 23, 23, 24, 24])"
      ]
     },
     "execution_count": 9,
     "metadata": {},
     "output_type": "execute_result"
    }
   ],
   "source": [
    "labels[:100]"
   ]
  },
  {
   "cell_type": "code",
   "execution_count": null,
   "id": "ed7093f0",
   "metadata": {},
   "outputs": [],
   "source": []
  }
 ],
 "metadata": {
  "kernelspec": {
   "display_name": "Python 3 (ipykernel)",
   "language": "python",
   "name": "python3"
  },
  "language_info": {
   "codemirror_mode": {
    "name": "ipython",
    "version": 3
   },
   "file_extension": ".py",
   "mimetype": "text/x-python",
   "name": "python",
   "nbconvert_exporter": "python",
   "pygments_lexer": "ipython3",
   "version": "3.9.12"
  }
 },
 "nbformat": 4,
 "nbformat_minor": 5
}
